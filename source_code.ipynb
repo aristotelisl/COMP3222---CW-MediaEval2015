{
 "cells": [
  {
   "cell_type": "code",
   "execution_count": 348,
   "id": "62152e4d",
   "metadata": {},
   "outputs": [],
   "source": [
    "#Import neccessary modules and load the dataset using Pandas\n",
    "import pandas as pd\n",
    "from pathlib import Path\n",
    "import numpy as np\n",
    "import matplotlib.pyplot as plt\n",
    "import seaborn as sns\n",
    "from langdetect import detect\n",
    "import re"
   ]
  },
  {
   "cell_type": "code",
   "execution_count": 349,
   "id": "448c4561",
   "metadata": {},
   "outputs": [],
   "source": [
    "# The dataset was unzipped and moved to the folder \"Dataset\" in this directory\n",
    "\n",
    "trainingSet = pd.read_csv(\"Dataset/mediaeval-2015-trainingset.txt\", sep='\\t')\n",
    "testSet = pd.read_csv(\"Dataset/mediaeval-2015-testset.txt\", sep='\\t')\n",
    "\n",
    "# Creating DataFrames for training and testing\n",
    "df_train = pd.DataFrame(data = trainingSet)\n",
    "df_test = pd.DataFrame(data = testSet)"
   ]
  },
  {
   "cell_type": "markdown",
   "id": "769ce1ec",
   "metadata": {},
   "source": [
    "<h1>Data Characterisation"
   ]
  },
  {
   "cell_type": "code",
   "execution_count": 350,
   "id": "5ab7c3c1",
   "metadata": {
    "scrolled": false
   },
   "outputs": [
    {
     "name": "stdout",
     "output_type": "stream",
     "text": [
      "<class 'pandas.core.frame.DataFrame'>\n",
      "RangeIndex: 14277 entries, 0 to 14276\n",
      "Data columns (total 7 columns):\n",
      " #   Column      Non-Null Count  Dtype \n",
      "---  ------      --------------  ----- \n",
      " 0   tweetId     14277 non-null  int64 \n",
      " 1   tweetText   14277 non-null  object\n",
      " 2   userId      14277 non-null  int64 \n",
      " 3   imageId(s)  14277 non-null  object\n",
      " 4   username    14277 non-null  object\n",
      " 5   timestamp   14277 non-null  object\n",
      " 6   label       14277 non-null  object\n",
      "dtypes: int64(2), object(5)\n",
      "memory usage: 780.9+ KB\n",
      "<class 'pandas.core.frame.DataFrame'>\n",
      "RangeIndex: 3755 entries, 0 to 3754\n",
      "Data columns (total 7 columns):\n",
      " #   Column      Non-Null Count  Dtype \n",
      "---  ------      --------------  ----- \n",
      " 0   tweetId     3755 non-null   int64 \n",
      " 1   tweetText   3755 non-null   object\n",
      " 2   userId      3755 non-null   int64 \n",
      " 3   imageId(s)  3755 non-null   object\n",
      " 4   username    3755 non-null   object\n",
      " 5   timestamp   3755 non-null   object\n",
      " 6   label       3755 non-null   object\n",
      "dtypes: int64(2), object(5)\n",
      "memory usage: 205.5+ KB\n"
     ]
    },
    {
     "data": {
      "text/html": [
       "<div>\n",
       "<style scoped>\n",
       "    .dataframe tbody tr th:only-of-type {\n",
       "        vertical-align: middle;\n",
       "    }\n",
       "\n",
       "    .dataframe tbody tr th {\n",
       "        vertical-align: top;\n",
       "    }\n",
       "\n",
       "    .dataframe thead th {\n",
       "        text-align: right;\n",
       "    }\n",
       "</style>\n",
       "<table border=\"1\" class=\"dataframe\">\n",
       "  <thead>\n",
       "    <tr style=\"text-align: right;\">\n",
       "      <th></th>\n",
       "      <th>tweetId</th>\n",
       "      <th>tweetText</th>\n",
       "      <th>userId</th>\n",
       "      <th>imageId(s)</th>\n",
       "      <th>username</th>\n",
       "      <th>timestamp</th>\n",
       "      <th>label</th>\n",
       "    </tr>\n",
       "  </thead>\n",
       "  <tbody>\n",
       "    <tr>\n",
       "      <th>0</th>\n",
       "      <td>263046056240115712</td>\n",
       "      <td>¿Se acuerdan de la película: “El día después d...</td>\n",
       "      <td>21226711</td>\n",
       "      <td>sandyA_fake_46</td>\n",
       "      <td>iAnnieM</td>\n",
       "      <td>Mon Oct 29 22:34:01 +0000 2012</td>\n",
       "      <td>fake</td>\n",
       "    </tr>\n",
       "    <tr>\n",
       "      <th>1</th>\n",
       "      <td>262995061304852481</td>\n",
       "      <td>@milenagimon: Miren a Sandy en NY!  Tremenda i...</td>\n",
       "      <td>192378571</td>\n",
       "      <td>sandyA_fake_09</td>\n",
       "      <td>CarlosVerareal</td>\n",
       "      <td>Mon Oct 29 19:11:23 +0000 2012</td>\n",
       "      <td>fake</td>\n",
       "    </tr>\n",
       "    <tr>\n",
       "      <th>2</th>\n",
       "      <td>262979898002534400</td>\n",
       "      <td>Buena la foto del Huracán Sandy, me recuerda a...</td>\n",
       "      <td>132303095</td>\n",
       "      <td>sandyA_fake_09</td>\n",
       "      <td>LucasPalape</td>\n",
       "      <td>Mon Oct 29 18:11:08 +0000 2012</td>\n",
       "      <td>fake</td>\n",
       "    </tr>\n",
       "    <tr>\n",
       "      <th>3</th>\n",
       "      <td>262996108400271360</td>\n",
       "      <td>Scary shit #hurricane #NY http://t.co/e4JLBUfH</td>\n",
       "      <td>241995902</td>\n",
       "      <td>sandyA_fake_29</td>\n",
       "      <td>Haaaaarryyy</td>\n",
       "      <td>Mon Oct 29 19:15:33 +0000 2012</td>\n",
       "      <td>fake</td>\n",
       "    </tr>\n",
       "    <tr>\n",
       "      <th>4</th>\n",
       "      <td>263018881839411200</td>\n",
       "      <td>My fave place in the world #nyc #hurricane #sa...</td>\n",
       "      <td>250315890</td>\n",
       "      <td>sandyA_fake_15</td>\n",
       "      <td>princess__natt</td>\n",
       "      <td>Mon Oct 29 20:46:02 +0000 2012</td>\n",
       "      <td>fake</td>\n",
       "    </tr>\n",
       "  </tbody>\n",
       "</table>\n",
       "</div>"
      ],
      "text/plain": [
       "              tweetId                                          tweetText  \\\n",
       "0  263046056240115712  ¿Se acuerdan de la película: “El día después d...   \n",
       "1  262995061304852481  @milenagimon: Miren a Sandy en NY!  Tremenda i...   \n",
       "2  262979898002534400  Buena la foto del Huracán Sandy, me recuerda a...   \n",
       "3  262996108400271360     Scary shit #hurricane #NY http://t.co/e4JLBUfH   \n",
       "4  263018881839411200  My fave place in the world #nyc #hurricane #sa...   \n",
       "\n",
       "      userId      imageId(s)        username                       timestamp  \\\n",
       "0   21226711  sandyA_fake_46         iAnnieM  Mon Oct 29 22:34:01 +0000 2012   \n",
       "1  192378571  sandyA_fake_09  CarlosVerareal  Mon Oct 29 19:11:23 +0000 2012   \n",
       "2  132303095  sandyA_fake_09     LucasPalape  Mon Oct 29 18:11:08 +0000 2012   \n",
       "3  241995902  sandyA_fake_29     Haaaaarryyy  Mon Oct 29 19:15:33 +0000 2012   \n",
       "4  250315890  sandyA_fake_15  princess__natt  Mon Oct 29 20:46:02 +0000 2012   \n",
       "\n",
       "  label  \n",
       "0  fake  \n",
       "1  fake  \n",
       "2  fake  \n",
       "3  fake  \n",
       "4  fake  "
      ]
     },
     "execution_count": 350,
     "metadata": {},
     "output_type": "execute_result"
    }
   ],
   "source": [
    "# See structure and column information of trainingSet\n",
    "trainingSet.info()\n",
    "testSet.info()\n",
    "trainingSet.head(5)"
   ]
  },
  {
   "cell_type": "code",
   "execution_count": 351,
   "id": "113e5a14",
   "metadata": {},
   "outputs": [
    {
     "data": {
      "image/png": "[encoded data removed]",
      "text/plain": [
       "<Figure size 400x400 with 1 Axes>"
      ]
     },
     "metadata": {},
     "output_type": "display_data"
    },
    {
     "data": {
      "image/png": "[encoded data removed]",
      "text/plain": [
       "<Figure size 400x400 with 1 Axes>"
      ]
     },
     "metadata": {},
     "output_type": "display_data"
    }
   ],
   "source": [
    "# Get unique values in label in training set\n",
    "label_counts = df_train['label'].value_counts()\n",
    "\n",
    "# Plot for the training set\n",
    "plt.figure(figsize=(4, 4))\n",
    "bars = plt.bar(label_counts.index, label_counts.values, color='blue')\n",
    "plt.title('Label Distribution in Training Set')\n",
    "\n",
    "# Add labels on each bar with frequencies\n",
    "for bar, name, frequency in zip(bars, label_counts.index, label_counts.values):\n",
    "    yval = bar.get_height()\n",
    "    plt.text(bar.get_x() + bar.get_width()/2, yval, f'{frequency}', ha='center', va='bottom')\n",
    "\n",
    "plt.show()\n",
    "\n",
    "# Get unique values in label in test set\n",
    "label_counts_test = df_test['label'].value_counts()\n",
    "\n",
    "# Plot for the test set\n",
    "plt.figure(figsize=(4, 4))\n",
    "bars = plt.bar(label_counts_test.index, label_counts_test.values, color='orange')\n",
    "plt.title('Label Distribution in Test Set')\n",
    "\n",
    "# Add labels on each bar with frequencies\n",
    "for bar, name, frequency in zip(bars, label_counts_test.index, label_counts_test.values):\n",
    "    yval = bar.get_height()\n",
    "    plt.text(bar.get_x() + bar.get_width()/2, yval, f'{frequency}', ha='center', va='bottom')\n",
    "    \n",
    "plt.show()"
   ]
  },
  {
   "cell_type": "code",
   "execution_count": 352,
   "id": "0c5fddf9",
   "metadata": {},
   "outputs": [
    {
     "data": {
      "image/png": "[encoded data removed]",
      "text/plain": [
       "<Figure size 1000x600 with 1 Axes>"
      ]
     },
     "metadata": {},
     "output_type": "display_data"
    },
    {
     "data": {
      "image/png": "[encoded data removed]",
      "text/plain": [
       "<Figure size 1000x600 with 1 Axes>"
      ]
     },
     "metadata": {},
     "output_type": "display_data"
    }
   ],
   "source": [
    "# Get unique values in imageId(s) excluding the number\n",
    "unique_imageIds = df_train['imageId(s)'].str.split('_').str[:1].apply('_'.join).value_counts()\n",
    "unique_imageIds_test = df_test['imageId(s)'].str.split('_').str[:1].apply('_'.join).value_counts()\n",
    "\n",
    "# Plot for the training set with labels on bars\n",
    "plt.figure(figsize=(10, 6))\n",
    "bars = plt.bar(unique_imageIds.index, unique_imageIds.values, color='blue')\n",
    "plt.title('imageId(s) Distribution in Training Set')\n",
    "plt.xticks(rotation=45, ha='right')\n",
    "\n",
    "# Add labels on each bar with frequencies\n",
    "for bar, name, frequency in zip(bars, unique_imageIds.index, unique_imageIds.values):\n",
    "    yval = bar.get_height()\n",
    "    plt.text(bar.get_x() + bar.get_width()/2, yval, f'{frequency}', ha='center', va='bottom')\n",
    "\n",
    "plt.show()\n",
    "\n",
    "# Plot for the test set with labels on bars\n",
    "plt.figure(figsize=(10, 6))\n",
    "bars = plt.bar(unique_imageIds_test.index, unique_imageIds_test.values, color='blue')\n",
    "plt.title('imageId(s) Distribution in Test Set')\n",
    "plt.xticks(rotation=45, ha='right')\n",
    "\n",
    "# Add labels on each bar with frequencies\n",
    "for bar, name, frequency in zip(bars, unique_imageIds_test.index, unique_imageIds_test.values):\n",
    "    yval = bar.get_height()\n",
    "    plt.text(bar.get_x() + bar.get_width()/2, yval, f'{frequency}', ha='center', va='bottom')\n",
    "\n",
    "plt.show()"
   ]
  },
  {
   "cell_type": "code",
   "execution_count": 353,
   "id": "faa3082b",
   "metadata": {
    "scrolled": true
   },
   "outputs": [],
   "source": [
    "# Detect language for each tweet, output as json object\n",
    "##def detect_language(text):\n",
    "  ##  try:\n",
    "    #    return detect(text) if text else 'Unknown'\n",
    "    #except:\n",
    "     #   return 'Unknown'\n",
    "\n",
    "#tweetLang = df_train['tweetText'].apply(detect_language)\n",
    "\n",
    "#language_counts = tweetLang.value_counts()\n",
    "\n",
    "#print(language_counts.to_dict())"
   ]
  },
  {
   "cell_type": "markdown",
   "id": "8f96bb94",
   "metadata": {},
   "source": [
    "<h1>Data Pre-processing"
   ]
  },
  {
   "cell_type": "code",
   "execution_count": 354,
   "id": "eb5e2b16",
   "metadata": {},
   "outputs": [],
   "source": [
    "import emoji\n",
    "import nltk\n",
    "from nltk.tokenize import word_tokenize\n",
    "from nltk.corpus import stopwords"
   ]
  },
  {
   "cell_type": "code",
   "execution_count": 355,
   "id": "04f912f5",
   "metadata": {},
   "outputs": [],
   "source": [
    "# Turn humor values in \"label\" to fake\n",
    "df_train['label'] = df_train['label'].replace('humor', 'fake')\n",
    "\n",
    "# Rename \"imageId(s)\" to \"imageId\"\n",
    "df_train = df_train.rename(columns={'imageId(s)': 'imageId'})\n",
    "df_test = df_test.rename(columns={'imageId(s)': 'imageId'})"
   ]
  },
  {
   "cell_type": "code",
   "execution_count": 356,
   "id": "dd82b8bc",
   "metadata": {
    "scrolled": true
   },
   "outputs": [
    {
     "name": "stdout",
     "output_type": "stream",
     "text": [
      "username: seanpizzy\tweetText: : Dad left stranded in South Korea after his toddler did this to his passport... http://t.co/xjWjcb6AoE http://t.co/aR7yfIoFII\n",
      "\n",
      "username: JWintin\tweetText: Funny   Dad left stranded in SKorea after his toddler did this to his passport. http://t.co/Umj5izuJ2s  http://t.co/LUMGJqNVVZ\n",
      "\n",
      "username: KevonMiller85\tweetText: “: Dad left stranded in South Korea after his toddler did this to his passport... http://t.co/UhhsOIM4rK” MATE!!! 🙊🙉🙈\n",
      "\n",
      "username: vishnusuresh\tweetText:  : Dad left stranded in South Korea after his toddler did this to his passport   http://t.co/XNi10t5Tw5   http://t.co/Ng7ineOTjI\n",
      "\n",
      "username: clairwithnoe\tweetText: “: Dad stranded in South Korea after his toddler did this to his passport http://t.co/hxOJWm3N0U http://t.co/iIf0UxCyEY” hahaha!\n",
      "\n",
      "username: HoneyInJozi\tweetText: CREATIVITY!  : Dad left stranded in South Korea after his toddler did this to his passport.. http://t.co/LV83SurnAr\n",
      "\n",
      "username: AndyBlackAssoc\tweetText: Dad left stranded in South Korea after his toddler did this to his passport   http://t.co/Bdm2z0Q9NT   http://t.co/Ev9Rv93oeP\n",
      "\n",
      "username: maxfosterr\tweetText: Dad left stranded in S.Korea after his toddler did this to his passport! 😂😂😂 http://t.co/98dODgKJJx\n",
      "\n",
      "username: SalhaKaitesi\tweetText: CREATIVITY!  : Dad left stranded in South Korea after his toddler did this to his passport.. http://t.co/LV83SurnAr\n",
      "\n",
      "username: AndyBlacz\tweetText: Dad left stranded in South Korea after his toddler did this to his passport   http://t.co/6HMoX3agUR   http://t.co/6UcjimUKbe\n",
      "\n",
      "username: belva_AD\tweetText: : Dad left stranded in South Korea after his toddler did this to his passport... http://t.co/ldikPhtdPw http://t.co/lil5WCpFqK\n",
      "\n",
      "username: ScouseScum\tweetText: “: Dad left stranded in South Korea after his toddler did this to his passport... http://t.co/UUsaJIeI5O http://t.co/X4rOWUhcmG”\n",
      "\n",
      "username: EnjoyEducation\tweetText: Hahaha! Dad left stranded in South Korea after his toddler did this to his passport... http://t.co/f3DJOmeoJH  http://t.co/DYmoFpL4js\n",
      "\n",
      "username: MunaKasya\tweetText: : Dad left stranded in South Korea after his toddler did this to his passport... http://t.co/suMyTruUTp http://t.co/T8G0KozkAM\n",
      "\n",
      "username: leerowlands81\tweetText: #LittleShit 😂 \\nDad left stranded in South Korea after his toddler did this to his passport... http://t.co/fvuEOElby2 http://t.co/lrqcyXJAMg”\n",
      "\n",
      "username: paulcarterTV\tweetText: LOLZ  : Dad left stranded in Korea after his toddler did this to his passport... http://t.co/2usa9ReVZi http://t.co/wme8OzElnk\n",
      "\n",
      "username: DailyMirror\tweetText: Dad left stranded in South Korea after his toddler did this to his passport... http://t.co/lEhtEbkaJH http://t.co/lB8wAygYOL\n",
      "\n",
      "username: MadeForMums\tweetText: NEVER let your toddler near your passport, folks. This poor dad is now stranded in South Korea… #DoodleDisaster http://t.co/cAkOiBONI9\n",
      "\n",
      "username: RonRuggless\tweetText: Drawn ; Quartered | man trapped abroad after toddler creatively defaces passport http://t.co/z5l0QDcmPe http://t.co/PX7Q8AVFDh\n",
      "\n",
      "username: LisaHorne\tweetText: OH. MY. MT : Man trapped abroad after toddler creatively defaces passport http://t.co/4TVVqfRKZR http://t.co/XBZ6V64OcI\n",
      "\n",
      "username: brandisides\tweetText: #kidfail “: Toddler draws on dad's passport, strands him in #SouthKorea. http://t.co/bDQ8QAbDZy #uhoh http://t.co/tYWTYu6Q71”\n",
      "\n",
      "username: manVSbaby\tweetText: Things you should not let a toddler play with #1 passport. http://t.co/ow5B8DFjQD http://t.co/hBtXC8hFEt\n",
      "\n",
      "username: MCEConferences1\tweetText: Toddler draws all over his dad's passport—leaving Dad stranded in Grand Cayman. #CME to GC http://t.co/thJlYrYO6C http://t.co/VNsGVHyQZc\n",
      "\n",
      "username: DjComplexion\tweetText: 😢😢   http://t.co/PNrnYajEvj never leave ur passport with your toddler....NEVER!!!!! cc DjComplexion\n",
      "\n",
      "username: toarjunmenonk\tweetText: Just a reminder to all toddler dads. Don't leave your passport lying around. The kid may decide to make you look good http://t.co/neCYTUuHYO\n",
      "\n",
      "username: nidyashaas\tweetText: ... now he can't leave the country *pukpuk si om*\\n​Toddler Doodles All Over Dad's Passport - http://t.co/VfehqLFug7 http://t.co/R6KSF6M8LU\n",
      "\n",
      "username: Thatohearts\tweetText: http://t.co/T5MVP6yrwx never leave ur passport with your toddler....NEVER!!!!! cc \n",
      "\n",
      "username: TripleTheFocus\tweetText: Toddler Draws on Dad's Passport, Strands Him in South Korea http://t.co/CpMCI3aEqo http://t.co/1LvfSvj5Rz\n",
      "\n",
      "username: DonTheodore\tweetText: Him could draw pon nuttin else? • Toddler draws all over his dad's passport—leaving Dad stranded in South Korea. http://t.co/bVtQ0r3IOB\n",
      "\n",
      "username: akwasisarpong\tweetText:  seen this? Toddler draws all over dad's passport—leaving Dad stranded in South Korea airport.Not so funny http://t.co/oK5EsUrQIk\n",
      "\n",
      "username: beachydreamer\tweetText: Toddler scribbles ALL OVER  Dads passport...strands him in South Korea!!!😱😱\\n#Oops #KidsMan\\n(People Mag.) http://t.co/w3vFWe9WcW\n",
      "\n",
      "username: dailymirrorni\tweetText: Dad left stranded after his toddler doodled all over his passport http://t.co/Dug9JW2tsF http://t.co/w1DlIbO3pz\n",
      "\n",
      "username: FathomWaytoGo\tweetText: Toddler draws on dad's passport, strands him in #SouthKorea. http://t.co/euyflDxGcJ #uhoh http://t.co/sILjqaUsMD\n",
      "\n",
      "username: Sweder\tweetText: Oh ...  : Dad  stranded after his toddler did this to his passport... http://t.co/aYNzC8ewVP http://t.co/nPzZi9Ah5A”\n",
      "\n",
      "username: richardhodgson1\tweetText: Dad  stranded after his toddler did this to his passport... http://t.co/nswkH9MffO http://t.co/arQlRIns7m” #jings\n",
      "\n",
      "username: Sarahg362\tweetText: “ : Dad  stranded after his toddler did this to his passport... http://t.co/vNEa0wxi2a http://t.co/RC77YqHklK”\n",
      "\n",
      "username: shazlunney\tweetText: Oopsie!  : Dad  stranded after his toddler did this to his passport... http://t.co/GSOxgID0ta http://t.co/lHiv3n7PVa\"\n",
      "\n",
      "username: AasmahMir\tweetText: Another classic.  : Dad  stranded after his toddler did this to his passport... http://t.co/C1gy7HAZcL http://t.co/ohTV5pmXoN\n",
      "\n",
      "username: DaveGoddard1971\tweetText: Whoops: @\"DailyMirror: Dad stranded in South Korea after his toddler did this to passport... http://t.co/ttU5NSmzO6 http://t.co/Y1Z1tCgF2A”\n",
      "\n",
      "username: reallyandrea\tweetText: Man trapped abroad because toddler got creative with passport http://t.co/QsJGYI07vX http://t.co/O0rYCcanh5\n",
      "\n",
      "username: Matt_Che\tweetText: Man Trapped Abroad Because His Toddler Got Creative With His Passport http://t.co/yaCPi3QR4k http://t.co/4rPArNff5y\n",
      "\n",
      "username: GRGFMBRKFST\tweetText: This man is trapped overseas because his toddler got creative with his passport!  You gotta laugh..  http://t.co/bDEwQ2VVcD\n",
      "\n",
      "username: KS1729\tweetText: Man trapped abroad because his toddler got creative with his passport. Brilliant. http://t.co/Xx4hPrpA2P http://t.co/42i4dDILaj\n",
      "\n",
      "username: slone\tweetText: Chinese Man Trapped Abroad Because His Toddler Got Creative With His Passport http://t.co/m6o5aMcx4y #tcot http://t.co/6fySWagEiS\n",
      "\n",
      "username: levoneW1\tweetText: Dad left stranded in South Korea after his toddler doodled over his passport.  http://t.co/TvCktsNb1I http://t.co/YUSKQW78dD\n",
      "\n",
      "username: levoneW1\tweetText: Man Trapped Abroad Because His Toddler Got Creative With His Passport  http://t.co/gTAUtqCBb3 http://t.co/CooncbhMiH\n",
      "\n"
     ]
    }
   ],
   "source": [
    "# Remove tags/mentions and retweets\n",
    "mentionRegex = r\"(via @\\w+)|(via+\\s+/r/[A-Za-z]+)|(via \\w+)|(@\\w+)|RT|&amp\"\n",
    "\n",
    "df_train['tweetText'] = df_train['tweetText'].apply(lambda text: re.sub(mentionRegex, '', text))\n",
    "df_test['tweetText'] = df_test['tweetText'].apply(lambda text: re.sub(mentionRegex, '', text))"
   ]
  },
  {
   "cell_type": "code",
   "execution_count": 357,
   "id": "823b79e6",
   "metadata": {},
   "outputs": [],
   "source": [
    "# Remove all links\n",
    "urlRegex = re.compile(r'http[s]?://\\S+')\n",
    "\n",
    "df_train['tweetText'] = df_train['tweetText'].apply(lambda text: re.sub(urlRegex, '', text))\n",
    "df_test['tweetText'] = df_test['tweetText'].apply(lambda text: re.sub(urlRegex, '', text))"
   ]
  },
  {
   "cell_type": "code",
   "execution_count": 358,
   "id": "7d2de603",
   "metadata": {},
   "outputs": [],
   "source": [
    "# Remove emojis\n",
    "# code section from https://stackoverflow.com/questions/33404752/removing-emojis-from-a-string-in-python\n",
    "emoji_pattern = re.compile(\"[\"\n",
    "    u\"\\U0001F600-\\U0001F64F\"  # emoticons\n",
    "    u\"\\U0001F300-\\U0001F5FF\"  # symbols & pictographs\n",
    "    u\"\\U0001F680-\\U0001F6FF\"  # transport & map symbols\n",
    "    u\"\\U0001F1E0-\\U0001F1FF\"  # flags (iOS)\n",
    "                       \"]+\", flags=re.UNICODE)\n",
    "\n",
    "def remove_emojis(text):\n",
    "    if isinstance(text, str):\n",
    "        cleaned_text = emoji_pattern.sub('', text)\n",
    "        return cleaned_text\n",
    "    else:\n",
    "        return text\n",
    "\n",
    "# Assuming df_train is your DataFrame\n",
    "df_train['tweetText'] = df_train['tweetText'].apply(lambda text: remove_emojis(text) if text else text)\n",
    "df_test['tweetText'] = df_test['tweetText'].apply(lambda text: remove_emojis(text) if text else text)"
   ]
  },
  {
   "cell_type": "code",
   "execution_count": 359,
   "id": "dc94dfd8",
   "metadata": {},
   "outputs": [],
   "source": [
    "# Noise removal (unnecessary characters such as punctuation and special characters)\n",
    "removeChars = '#.!():\",_-;<>«“?*=❤•☁|▶✨☝⚡☔✈️❗�¿/+\\n'\n",
    "def removeNoise(text):\n",
    "    if isinstance(text, str):\n",
    "        return re.sub(f'[{re.escape(removeChars)}]', '', text)\n",
    "    return text\n",
    "\n",
    "df_train['tweetText'] = df_train['tweetText'].apply(removeNoise)\n",
    "df_test['tweetText'] = df_test['tweetText'].apply(removeNoise)\n",
    "\n",
    "# Remove links that had whitespace and newline characters\n",
    "urlRegex = re.compile(r'http \\\\\\\\tco\\\\\\S+')\n",
    "\n",
    "df_train['tweetText'] = df_train['tweetText'].apply(lambda text: re.sub(urlRegex, '', text))\n",
    "df_test['tweetText'] = df_test['tweetText'].apply(lambda text: re.sub(urlRegex, '', text))"
   ]
  },
  {
   "cell_type": "code",
   "execution_count": 360,
   "id": "bce164e6",
   "metadata": {},
   "outputs": [],
   "source": [
    "# Remove stop words\n",
    "def remove_stopwords(text):\n",
    "    stop_words = set(stopwords.words('english'))\n",
    "    words = text.split()\n",
    "    filtered_words = [word for word in words if word.lower() not in stop_words]\n",
    "    return ' '.join(filtered_words)\n",
    "\n",
    "# Apply the function to the 'tweetText' column in your DataFrame\n",
    "df_train['tweetText'] = df_train['tweetText'].apply(lambda text: remove_stopwords(text))\n",
    "df_test['tweetText'] = df_test['tweetText'].apply(lambda text: remove_stopwords(text))"
   ]
  },
  {
   "cell_type": "code",
   "execution_count": 361,
   "id": "f1acb792",
   "metadata": {
    "scrolled": true
   },
   "outputs": [],
   "source": [
    "# Remove newline character\n",
    "df_train['tweetText'] = df_train['tweetText'].apply(lambda text: re.sub(r'\\\\n', '', text))\n",
    "df_test['tweetText'] = df_test['tweetText'].apply(lambda text: re.sub(r'\\\\n', '', text))\n",
    "\n",
    "# Remove whitespace\n",
    "df_train['tweetText'] = df_train['tweetText'].str.replace(r'\\s+', ' ', regex=True).str.strip()\n",
    "df_test['tweetText'] = df_test['tweetText'].str.replace(r'\\s+', ' ', regex=True).str.strip()"
   ]
  },
  {
   "cell_type": "code",
   "execution_count": 362,
   "id": "192d4979",
   "metadata": {},
   "outputs": [],
   "source": [
    "# Turn text to lowercase\n",
    "df_train['tweetText'] = df_train['tweetText'].apply(lambda text: text.lower())\n",
    "df_test['tweetText'] = df_test['tweetText'].apply(lambda text: text.lower())"
   ]
  },
  {
   "cell_type": "markdown",
   "id": "d694f6da",
   "metadata": {},
   "source": [
    "<h1>Algorithm Design and Training"
   ]
  },
  {
   "cell_type": "code",
   "execution_count": 380,
   "id": "76bddcc6",
   "metadata": {},
   "outputs": [],
   "source": [
    "from sklearn.feature_extraction.text import CountVectorizer, TfidfVectorizer\n",
    "from sklearn.naive_bayes import MultinomialNB, BernoulliNB\n",
    "from sklearn import metrics\n",
    "from sklearn.metrics import classification_report\n",
    "from sklearn.preprocessing import LabelEncoder\n",
    "from sklearn.feature_extraction.text import TfidfVectorizer\n",
    "from sklearn.metrics import f1_score, confusion_matrix, classification_report"
   ]
  },
  {
   "cell_type": "code",
   "execution_count": 381,
   "id": "ac74092b",
   "metadata": {},
   "outputs": [],
   "source": [
    "#Define features and target for training and testing\n",
    "train_label = df_train.label\n",
    "train_ft = df_train.tweetText\n",
    "test_label = df_test.label\n",
    "test_ft = df_test.tweetText"
   ]
  },
  {
   "cell_type": "code",
   "execution_count": 382,
   "id": "ce5adfab",
   "metadata": {},
   "outputs": [
    {
     "name": "stdout",
     "output_type": "stream",
     "text": [
      "F1 Score: 0.4792833146696528\n",
      "Confusion Matrix:\n",
      "[[ 856 1690]\n",
      " [ 170 1039]]\n",
      "Classification Report:\n",
      "              precision    recall  f1-score   support\n",
      "\n",
      "        fake       0.83      0.34      0.48      2546\n",
      "        real       0.38      0.86      0.53      1209\n",
      "\n",
      "    accuracy                           0.50      3755\n",
      "   macro avg       0.61      0.60      0.50      3755\n",
      "weighted avg       0.69      0.50      0.49      3755\n",
      "\n"
     ]
    }
   ],
   "source": [
    "## ALGORITHM 1: BoW Vectorization using Multibomial Naive Bayes Text Classification\n",
    "\n",
    "# Bag-of-Words Vectorization\n",
    "vectorizer = CountVectorizer()\n",
    "X_train = vectorizer.fit_transform(train_ft)\n",
    "X_test = vectorizer.transform(test_ft)\n",
    "\n",
    "# Multinomial Naive Bayes Classifier\n",
    "classifier = MultinomialNB()\n",
    "classifier.fit(X_train, train_label)\n",
    "\n",
    "# Predictions\n",
    "predictions = classifier.predict(X_test)\n",
    "\n",
    "# F1 Score Calculation\n",
    "f1 = f1_score(test_label, predictions, pos_label='fake')\n",
    "\n",
    "# Confusion Matrix and Classification Report\n",
    "conf_matrix = confusion_matrix(test_label, predictions)\n",
    "class_report = classification_report(test_label, predictions)\n",
    "\n",
    "print(f\"F1 Score: {f1}\")\n",
    "print(\"Confusion Matrix:\")\n",
    "print(conf_matrix)\n",
    "print(\"Classification Report:\")\n",
    "print(class_report)"
   ]
  },
  {
   "cell_type": "code",
   "execution_count": 383,
   "id": "c614fc4a",
   "metadata": {},
   "outputs": [
    {
     "name": "stdout",
     "output_type": "stream",
     "text": [
      "F1 Score: 0.894921875\n",
      "Confusion Matrix:\n",
      "[[2291  255]\n",
      " [ 283  926]]\n",
      "Classification Report:\n",
      "              precision    recall  f1-score   support\n",
      "\n",
      "        fake       0.89      0.90      0.89      2546\n",
      "        real       0.78      0.77      0.77      1209\n",
      "\n",
      "    accuracy                           0.86      3755\n",
      "   macro avg       0.84      0.83      0.83      3755\n",
      "weighted avg       0.86      0.86      0.86      3755\n",
      "\n"
     ]
    }
   ],
   "source": [
    "## ALGORITHM 1: TF-IDF Vectorization using Multibomial Naive Bayes Text Classification\n",
    "\n",
    "# TF-IDF Vectorization\n",
    "vectorizer = TfidfVectorizer()\n",
    "X_train = vectorizer.fit_transform(train_ft)\n",
    "X_test = vectorizer.transform(test_ft)\n",
    "\n",
    "# Multinomial Naive Bayes Classifier\n",
    "classifier = MultinomialNB()\n",
    "classifier.fit(X_train, train_label)\n",
    "\n",
    "# Predictions\n",
    "predictions = classifier.predict(X_test)\n",
    "\n",
    "# F1 Score Calculation\n",
    "f1 = f1_score(test_label, predictions, pos_label='fake')\n",
    "\n",
    "# Confusion Matrix and Classification Report\n",
    "conf_matrix = confusion_matrix(test_label, predictions)\n",
    "class_report = classification_report(test_label, predictions)\n",
    "\n",
    "print(f\"F1 Score: {f1}\")\n",
    "print(\"Confusion Matrix:\")\n",
    "print(conf_matrix)\n",
    "print(\"Classification Report:\")\n",
    "print(class_report)"
   ]
  },
  {
   "cell_type": "code",
   "execution_count": 384,
   "id": "26a221c0",
   "metadata": {},
   "outputs": [
    {
     "name": "stdout",
     "output_type": "stream",
     "text": [
      "F1 Score: 0.5773824650571792\n",
      "Confusion Matrix:\n",
      "[[1136 1410]\n",
      " [ 253  956]]\n",
      "Classification Report:\n",
      "              precision    recall  f1-score   support\n",
      "\n",
      "        fake       0.82      0.45      0.58      2546\n",
      "        real       0.40      0.79      0.53      1209\n",
      "\n",
      "    accuracy                           0.56      3755\n",
      "   macro avg       0.61      0.62      0.56      3755\n",
      "weighted avg       0.68      0.56      0.56      3755\n",
      "\n"
     ]
    }
   ],
   "source": [
    "## ALGORITHM 2: TF-IDF Vectorization using Bernoulli Naive Bayes Text Classification\n",
    "\n",
    "# TF-IDF Vectorization\n",
    "vectorizer = TfidfVectorizer()\n",
    "X_train = vectorizer.fit_transform(train_ft)\n",
    "X_test = vectorizer.transform(test_ft)\n",
    "\n",
    "# Bernoulli Naive Bayes Classifier\n",
    "classifier = BernoulliNB()\n",
    "classifier.fit(X_train, train_label)\n",
    "\n",
    "# Predictions\n",
    "predictions = classifier.predict(X_test)\n",
    "\n",
    "# F1 Score Calculation\n",
    "f1 = f1_score(test_label, predictions, pos_label='fake')\n",
    "\n",
    "# Confusion Matrix and Classification Report\n",
    "conf_matrix = confusion_matrix(test_label, predictions)\n",
    "class_report = classification_report(test_label, predictions)\n",
    "\n",
    "print(f\"F1 Score: {f1}\")\n",
    "print(\"Confusion Matrix:\")\n",
    "print(conf_matrix)\n",
    "print(\"Classification Report:\")\n",
    "print(class_report)"
   ]
  }
 ],
 "metadata": {
  "kernelspec": {
   "display_name": "Python 3 (ipykernel)",
   "language": "python",
   "name": "python3"
  },
  "language_info": {
   "codemirror_mode": {
    "name": "ipython",
    "version": 3
   },
   "file_extension": ".py",
   "mimetype": "text/x-python",
   "name": "python",
   "nbconvert_exporter": "python",
   "pygments_lexer": "ipython3",
   "version": "3.9.0"
  }
 },
 "nbformat": 4,
 "nbformat_minor": 5
}
